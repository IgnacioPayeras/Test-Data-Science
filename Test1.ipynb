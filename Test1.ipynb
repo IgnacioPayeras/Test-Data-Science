{
 "cells": [
  {
   "cell_type": "code",
   "execution_count": null,
   "metadata": {},
   "outputs": [],
   "source": [
    "# Import libraries\n",
    "import pandas as pd\n",
    "from datetime import datetime\n",
    "import glob"
   ]
  },
  {
   "cell_type": "code",
   "execution_count": null,
   "metadata": {},
   "outputs": [],
   "source": [
    "# Merge CSVs\n",
    "file_paths = glob.glob('compras_*.csv')\n",
    "dfs = [pd.read_csv(file, sep=';') for file in file_paths]\n",
    "df = pd.concat(dfs, ignore_index=True)\n",
    "\n",
    "# Save resulting DataFrame to a purchases.csv file\n",
    "df.to_csv('compras.csv', index=False)"
   ]
  },
  {
   "cell_type": "code",
   "execution_count": null,
   "metadata": {},
   "outputs": [],
   "source": [
    "# Convert creation_date column to YYYY-MM-DD format\n",
    "df['creation_date'] = pd.to_datetime(df['creation_date']).dt.strftime('%Y-%m-%d')\n",
    "\n",
    "# Sort DataFrame by account and period\n",
    "df.sort_values(by=['account', 'period'], inplace=True)"
   ]
  },
  {
   "cell_type": "code",
   "execution_count": null,
   "metadata": {},
   "outputs": [],
   "source": [
    "# Function to calculate requested variables per row\n",
    "def calcular_variables_compras(row):\n",
    "    cliente = df[df['account'] == row['account']]\n",
    "    periodo_actual = row['period']\n",
    "    ultimos_3_meses = cliente[(cliente['period'] >= periodo_actual - 300) & (cliente['period'] < periodo_actual)]\n",
    "    \n",
    "    # Set to exclude the current period if there is not enough historical data\n",
    "    if ultimos_3_meses['period'].nunique() < 3:\n",
    "        ultimos_3_meses = cliente[(cliente['period'] >= periodo_actual - 200) & (cliente['period'] < periodo_actual)]\n",
    "    \n",
    "    row['compras_u3m'] = int(ultimos_3_meses['buy'].any())\n",
    "    row['monto_compras_u3m'] = ultimos_3_meses['amount'].sum()\n",
    "    row['veces_compras_u3m'] = ultimos_3_meses['times'].sum()\n",
    "    \n",
    "    if ultimos_3_meses.empty:\n",
    "        row['periodo_ultima_compra'] = 0\n",
    "        row['meses_sin_comprar'] = periodo_actual % 100\n",
    "    else:\n",
    "        row['periodo_ultima_compra'] = ultimos_3_meses['period'].iloc[-1]\n",
    "        row['meses_sin_comprar'] = (periodo_actual - row['periodo_ultima_compra']) % 100\n",
    "    \n",
    "    return row"
   ]
  },
  {
   "cell_type": "code",
   "execution_count": null,
   "metadata": {},
   "outputs": [],
   "source": [
    "# Apply function to each row of the DataFrame\n",
    "df = df.apply(calcular_variables_compras, axis=1)\n",
    "\n",
    "# PLUS: Save resulting DataFrame (with news columns) to a purchases.csv file\n",
    "df.to_csv('purchases.csv', index=False)"
   ]
  }
 ],
 "metadata": {
  "kernelspec": {
   "display_name": "Python 3",
   "language": "python",
   "name": "python3"
  },
  "language_info": {
   "codemirror_mode": {
    "name": "ipython",
    "version": 3
   },
   "file_extension": ".py",
   "mimetype": "text/x-python",
   "name": "python",
   "nbconvert_exporter": "python",
   "pygments_lexer": "ipython3",
   "version": "3.12.3"
  }
 },
 "nbformat": 4,
 "nbformat_minor": 2
}
